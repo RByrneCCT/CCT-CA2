{
 "cells": [
  {
   "cell_type": "code",
   "execution_count": 1,
   "id": "eb4b4b9b",
   "metadata": {},
   "outputs": [],
   "source": [
    "import pandas as pd"
   ]
  },
  {
   "cell_type": "code",
   "execution_count": 2,
   "id": "24d889c6",
   "metadata": {
    "scrolled": true
   },
   "outputs": [
    {
     "name": "stderr",
     "output_type": "stream",
     "text": [
      "/var/folders/nc/3_jdz57s3fb248nc5jbmskj40000gn/T/ipykernel_67861/2557532795.py:1: DtypeWarning: Columns (2,5) have mixed types. Specify dtype option on import or set low_memory=False.\n",
      "  london_data = pd.read_csv('london_data.csv')\n"
     ]
    },
    {
     "data": {
      "text/html": [
       "<div>\n",
       "<style scoped>\n",
       "    .dataframe tbody tr th:only-of-type {\n",
       "        vertical-align: middle;\n",
       "    }\n",
       "\n",
       "    .dataframe tbody tr th {\n",
       "        vertical-align: top;\n",
       "    }\n",
       "\n",
       "    .dataframe thead th {\n",
       "        text-align: right;\n",
       "    }\n",
       "</style>\n",
       "<table border=\"1\" class=\"dataframe\">\n",
       "  <thead>\n",
       "    <tr style=\"text-align: right;\">\n",
       "      <th></th>\n",
       "      <th>Number</th>\n",
       "      <th>Start date</th>\n",
       "      <th>Start station number</th>\n",
       "      <th>Start station</th>\n",
       "      <th>End date</th>\n",
       "      <th>End station number</th>\n",
       "      <th>End station</th>\n",
       "      <th>Bike number</th>\n",
       "      <th>Bike model</th>\n",
       "      <th>Total duration</th>\n",
       "      <th>Total duration (ms)</th>\n",
       "    </tr>\n",
       "  </thead>\n",
       "  <tbody>\n",
       "    <tr>\n",
       "      <th>0</th>\n",
       "      <td>134489498</td>\n",
       "      <td>2023-09-30 23:59</td>\n",
       "      <td>1083</td>\n",
       "      <td>Commercial Street, Shoreditch</td>\n",
       "      <td>2023-10-01 00:08</td>\n",
       "      <td>200121</td>\n",
       "      <td>Shoreditch Court, Haggerston</td>\n",
       "      <td>57640</td>\n",
       "      <td>CLASSIC</td>\n",
       "      <td>9m 1s</td>\n",
       "      <td>541565</td>\n",
       "    </tr>\n",
       "    <tr>\n",
       "      <th>1</th>\n",
       "      <td>134489510</td>\n",
       "      <td>2023-09-30 23:59</td>\n",
       "      <td>3504</td>\n",
       "      <td>Moor Street, Soho</td>\n",
       "      <td>2023-10-01 01:02</td>\n",
       "      <td>300234</td>\n",
       "      <td>Stratford Station, Stratford</td>\n",
       "      <td>57335</td>\n",
       "      <td>CLASSIC</td>\n",
       "      <td>1h 2m 59s</td>\n",
       "      <td>3779551</td>\n",
       "    </tr>\n",
       "    <tr>\n",
       "      <th>2</th>\n",
       "      <td>134489509</td>\n",
       "      <td>2023-09-30 23:59</td>\n",
       "      <td>3504</td>\n",
       "      <td>Moor Street, Soho</td>\n",
       "      <td>2023-10-01 01:04</td>\n",
       "      <td>300234</td>\n",
       "      <td>Stratford Station, Stratford</td>\n",
       "      <td>30035</td>\n",
       "      <td>CLASSIC</td>\n",
       "      <td>1h 4m 27s</td>\n",
       "      <td>3867026</td>\n",
       "    </tr>\n",
       "    <tr>\n",
       "      <th>3</th>\n",
       "      <td>134489508</td>\n",
       "      <td>2023-10-01 00:00</td>\n",
       "      <td>1133</td>\n",
       "      <td>Baylis Road, Waterloo</td>\n",
       "      <td>2023-10-01 00:06</td>\n",
       "      <td>1078</td>\n",
       "      <td>Lambeth Road, Vauxhall</td>\n",
       "      <td>52136</td>\n",
       "      <td>CLASSIC</td>\n",
       "      <td>5m 59s</td>\n",
       "      <td>359570</td>\n",
       "    </tr>\n",
       "    <tr>\n",
       "      <th>4</th>\n",
       "      <td>134489507</td>\n",
       "      <td>2023-09-30 23:59</td>\n",
       "      <td>300079</td>\n",
       "      <td>London Street, Paddington</td>\n",
       "      <td>2023-10-01 00:16</td>\n",
       "      <td>1214</td>\n",
       "      <td>Kensington Olympia Station, Olympia</td>\n",
       "      <td>57534</td>\n",
       "      <td>CLASSIC</td>\n",
       "      <td>16m 29s</td>\n",
       "      <td>989750</td>\n",
       "    </tr>\n",
       "  </tbody>\n",
       "</table>\n",
       "</div>"
      ],
      "text/plain": [
       "      Number        Start date Start station number  \\\n",
       "0  134489498  2023-09-30 23:59                 1083   \n",
       "1  134489510  2023-09-30 23:59                 3504   \n",
       "2  134489509  2023-09-30 23:59                 3504   \n",
       "3  134489508  2023-10-01 00:00                 1133   \n",
       "4  134489507  2023-09-30 23:59               300079   \n",
       "\n",
       "                   Start station          End date End station number  \\\n",
       "0  Commercial Street, Shoreditch  2023-10-01 00:08             200121   \n",
       "1              Moor Street, Soho  2023-10-01 01:02             300234   \n",
       "2              Moor Street, Soho  2023-10-01 01:04             300234   \n",
       "3          Baylis Road, Waterloo  2023-10-01 00:06               1078   \n",
       "4      London Street, Paddington  2023-10-01 00:16               1214   \n",
       "\n",
       "                           End station  Bike number Bike model Total duration  \\\n",
       "0         Shoreditch Court, Haggerston        57640    CLASSIC          9m 1s   \n",
       "1         Stratford Station, Stratford        57335    CLASSIC      1h 2m 59s   \n",
       "2         Stratford Station, Stratford        30035    CLASSIC      1h 4m 27s   \n",
       "3               Lambeth Road, Vauxhall        52136    CLASSIC         5m 59s   \n",
       "4  Kensington Olympia Station, Olympia        57534    CLASSIC        16m 29s   \n",
       "\n",
       "   Total duration (ms)  \n",
       "0               541565  \n",
       "1              3779551  \n",
       "2              3867026  \n",
       "3               359570  \n",
       "4               989750  "
      ]
     },
     "execution_count": 2,
     "metadata": {},
     "output_type": "execute_result"
    }
   ],
   "source": [
    "london_data = pd.read_csv('london_data.csv')\n",
    "london_data.head()"
   ]
  },
  {
   "cell_type": "code",
   "execution_count": 3,
   "id": "f984515e",
   "metadata": {},
   "outputs": [
    {
     "data": {
      "text/plain": [
       "0          2023-10-01 00:08\n",
       "1          2023-10-01 01:02\n",
       "2          2023-10-01 01:04\n",
       "3          2023-10-01 00:06\n",
       "4          2023-10-01 00:16\n",
       "                 ...       \n",
       "8090408    2023-05-29 00:03\n",
       "8090409    2023-05-29 00:14\n",
       "8090410    2023-05-29 00:03\n",
       "8090411    2023-05-29 00:04\n",
       "8090412    2023-05-29 00:24\n",
       "Name: End date, Length: 8090413, dtype: object"
      ]
     },
     "execution_count": 3,
     "metadata": {},
     "output_type": "execute_result"
    }
   ],
   "source": [
    "london_data['End date']"
   ]
  },
  {
   "cell_type": "code",
   "execution_count": 4,
   "id": "f74dfffd",
   "metadata": {},
   "outputs": [
    {
     "data": {
      "text/plain": [
       "(8090413, 11)"
      ]
     },
     "execution_count": 4,
     "metadata": {},
     "output_type": "execute_result"
    }
   ],
   "source": [
    "london_data.shape"
   ]
  },
  {
   "cell_type": "code",
   "execution_count": null,
   "id": "50c7db8a",
   "metadata": {},
   "outputs": [],
   "source": [
    "dublin_data = pd.read_csv('dublin_data_combined.csv')\n",
    "dublin_data.head()"
   ]
  },
  {
   "cell_type": "code",
   "execution_count": null,
   "id": "869c088a",
   "metadata": {},
   "outputs": [],
   "source": [
    "dublin_data.shape"
   ]
  },
  {
   "cell_type": "code",
   "execution_count": null,
   "id": "2194735f",
   "metadata": {},
   "outputs": [],
   "source": []
  },
  {
   "cell_type": "markdown",
   "id": "9648f7eb",
   "metadata": {},
   "source": [
    "Getting Bike station Locations for London and Dublin"
   ]
  },
  {
   "cell_type": "code",
   "execution_count": null,
   "id": "5a4125b3",
   "metadata": {},
   "outputs": [],
   "source": [
    "# Step 1: Create a copy of the original DataFrame\n",
    "london_data_copy = london_data.copy()\n",
    "\n",
    "# Step 2: Clean the copied DataFrame\n",
    "\n",
    "# Drop rows with missing values in specified columns\n",
    "london_data_copy.dropna(axis=0, subset=[\"Start station\", \"End station\", \"Start date\", \"End date\"], inplace=True)\n",
    "\n",
    "\n",
    "# Filter out rows where StartStation Id is equal to EndStation Id\n",
    "london_data_copy = london_data_copy[london_data_copy[\"Start station\"] != london_data_copy[\"End station\"]]\n",
    "\n",
    "# Keep only the specified columns\n",
    "london_data_copy = london_data_copy.loc[:, ['Start date', 'Start station', 'End date', 'End station', 'Total duration']]\n",
    "\n",
    "# Drop duplicates\n",
    "london_data_copy.drop_duplicates(inplace=True)\n",
    "\n",
    "# Now you can work with london_data_copy without affecting the original london_data\n",
    "print(london_data_copy.shape)\n",
    "london_data_copy.head()"
   ]
  },
  {
   "cell_type": "code",
   "execution_count": null,
   "id": "1c16986e",
   "metadata": {},
   "outputs": [],
   "source": [
    "import requests\n",
    "from xml.etree import ElementTree as ET"
   ]
  },
  {
   "cell_type": "code",
   "execution_count": null,
   "id": "e8511ea0",
   "metadata": {},
   "outputs": [],
   "source": [
    "site = \"https://tfl.gov.uk/tfl/syndication/feeds/cycle-hire/livecyclehireupdates.xml\"\n",
    "\n",
    "response = requests.get(site)\n",
    "root = ET.fromstring(response.content)\n",
    "\n",
    "id_list = [int(root[i][0].text) for i in range(0, len(root))]\n",
    "name_list = [root[i][1].text for i in range(0, len(root))]\n",
    "lat_list = [float(root[i][3].text) for i in range(0, len(root))]\n",
    "lon_list = [float(root[i][4].text) for i in range(0, len(root))]\n",
    "capacity_list = [int(root[i][12].text) for i in range(0, len(root))]\n",
    "\n",
    "london_all_locs = pd.DataFrame(list(zip(name_list, id_list, lat_list, \n",
    "                                 lon_list, capacity_list)), columns = [\"name\",\"id\",\"lat\",\"lon\",\"capacity\"])\n",
    "\n",
    "london_all_locs.to_csv('bike_point_locations_saved.csv', header=True, index=None)\n",
    "\n",
    "print(london_all_locs.shape)\n",
    "london_all_locs.head()"
   ]
  },
  {
   "cell_type": "code",
   "execution_count": null,
   "id": "fe6af174",
   "metadata": {},
   "outputs": [],
   "source": [
    "london_data['Bike number'].unique()"
   ]
  },
  {
   "cell_type": "code",
   "execution_count": null,
   "id": "c086b901",
   "metadata": {},
   "outputs": [],
   "source": [
    "print('London Bikes : ' ,len(london_data['Bike number'].unique()))\n",
    "print('London Stations : ' ,london_all_locs.shape[0])"
   ]
  },
  {
   "cell_type": "code",
   "execution_count": null,
   "id": "e9c000ed",
   "metadata": {},
   "outputs": [],
   "source": [
    "dublin_all_locs = dublin_data[['STATION ID','NAME','BIKE_STANDS','STATUS','LATITUDE', 'LONGITUDE']].drop_duplicates(subset=[\"STATION ID\"])\n",
    "dublin_all_locs.head()"
   ]
  },
  {
   "cell_type": "code",
   "execution_count": null,
   "id": "05a820b4",
   "metadata": {},
   "outputs": [],
   "source": [
    "print('Dublin Bikes : ' ,dublin_all_locs['BIKE_STANDS'].sum())\n",
    "print('Dublin Stations : ' ,dublin_all_locs.shape[0])"
   ]
  },
  {
   "cell_type": "code",
   "execution_count": null,
   "id": "54012ff5",
   "metadata": {},
   "outputs": [],
   "source": []
  }
 ],
 "metadata": {
  "kernelspec": {
   "display_name": "Python 3 (ipykernel)",
   "language": "python",
   "name": "python3"
  },
  "language_info": {
   "codemirror_mode": {
    "name": "ipython",
    "version": 3
   },
   "file_extension": ".py",
   "mimetype": "text/x-python",
   "name": "python",
   "nbconvert_exporter": "python",
   "pygments_lexer": "ipython3",
   "version": "3.11.4"
  }
 },
 "nbformat": 4,
 "nbformat_minor": 5
}
